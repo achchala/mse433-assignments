{
 "cells": [
  {
   "cell_type": "markdown",
   "metadata": {},
   "source": [
    "# Assignment 1: KPD Optimization Problems\n",
    "\n",
    "The purpose of this assignment is to gain a deeper understanding of and hands-on experience with the\n",
    "optimization problems that arise in KPD\n",
    "\n",
    "## Step 1: Data Preparation"
   ]
  },
  {
   "cell_type": "code",
   "execution_count": 8,
   "metadata": {},
   "outputs": [],
   "source": [
    "import random\n",
    "import numpy as np\n",
    "import gurobipy as gp\n",
    "from gurobipy import GRB\n",
    "import networkx as nx\n",
    "import matplotlib.pyplot as plt"
   ]
  },
  {
   "cell_type": "markdown",
   "metadata": {},
   "source": [
    "## Step 1: Data Preparation"
   ]
  },
  {
   "cell_type": "code",
   "execution_count": 9,
   "metadata": {},
   "outputs": [],
   "source": [
    "seed = 3939\n",
    "random.seed(seed)\n",
    "np.random.seed(seed)\n",
    "\n",
    "N = random.randint(20, 25)\n",
    "\n",
    "A1 = np.array([random.sample(range(1, N + 1), N) for _ in range(N)])\n",
    "\n",
    "A2 = np.random.choice([0, 1], size=(N, N), p=[0.5, 0.5])"
   ]
  },
  {
   "cell_type": "code",
   "execution_count": 10,
   "metadata": {},
   "outputs": [
    {
     "data": {
      "text/plain": [
       "22"
      ]
     },
     "execution_count": 10,
     "metadata": {},
     "output_type": "execute_result"
    }
   ],
   "source": [
    "# Number of patient-donor pairs (N) as an integer between 20 and 25\n",
    "N"
   ]
  },
  {
   "cell_type": "code",
   "execution_count": 11,
   "metadata": {},
   "outputs": [
    {
     "data": {
      "text/plain": [
       "array([[14, 13,  2, 10, 15,  5,  6, 18, 22, 20, 16, 11,  7, 12,  1, 19,\n",
       "        17, 21,  8,  3,  9,  4],\n",
       "       [14, 10, 20,  6, 22,  5,  2, 18, 17,  7,  4,  9,  3, 21, 19, 16,\n",
       "        15, 11, 13, 12,  1,  8],\n",
       "       [15,  5, 13, 20, 12, 19,  3,  8, 16,  6, 21,  7, 14, 17,  4,  2,\n",
       "        18,  1, 22, 11,  9, 10],\n",
       "       [ 9, 12, 18,  8, 20, 15, 21,  6, 16,  1, 19,  3, 22,  4,  7,  5,\n",
       "        13, 17, 10, 11, 14,  2],\n",
       "       [ 2, 11,  5,  6, 12, 18, 10,  1,  8, 15, 17, 21,  7,  3, 13, 22,\n",
       "        20,  4, 14, 19,  9, 16],\n",
       "       [20, 15,  9, 13,  1,  8, 17,  6, 21, 22,  3, 18,  4, 14, 11, 19,\n",
       "         2,  5,  7, 12, 10, 16],\n",
       "       [ 8, 12,  6, 19, 15,  9,  1, 18, 17, 14, 20, 13, 10,  7,  3, 16,\n",
       "         2, 22,  4,  5, 21, 11],\n",
       "       [17, 11,  8, 20, 14, 13,  1, 22, 12,  9,  6,  7,  3, 16, 15, 18,\n",
       "        21,  2,  5, 10,  4, 19],\n",
       "       [ 1, 18,  7,  4,  8,  2,  6,  5, 12,  9, 13, 15, 19, 22, 16, 10,\n",
       "        11, 14, 20,  3, 21, 17],\n",
       "       [20, 12, 18,  8,  2, 22,  1,  5, 15, 11,  6, 10, 16, 17, 19,  7,\n",
       "        13,  4, 14,  9, 21,  3],\n",
       "       [ 5, 17, 13,  1,  2,  3,  6, 18, 20,  9,  8, 21, 11, 22, 12, 10,\n",
       "        15, 16, 19, 14,  4,  7],\n",
       "       [19,  9, 20, 11, 13,  1, 12,  8,  6,  3, 16,  2, 18,  5,  4, 14,\n",
       "        10, 17,  7, 21, 22, 15],\n",
       "       [ 6,  2, 11,  9, 19, 20, 15, 12,  7,  5, 18,  1, 14,  4, 17,  8,\n",
       "        22,  3, 13, 16, 21, 10],\n",
       "       [19,  1, 14, 15,  9, 20,  7,  6, 18,  2, 13,  4, 17, 10, 16, 12,\n",
       "         8, 11,  5,  3, 21, 22],\n",
       "       [18, 16, 15, 17, 10,  3, 21, 13,  2,  9,  7,  8, 19, 14, 22, 12,\n",
       "         1,  5, 20,  6, 11,  4],\n",
       "       [20,  9, 10, 13,  3,  2, 21, 14, 12, 19, 18,  6,  1,  8,  4, 16,\n",
       "         5,  7, 17, 22, 11, 15],\n",
       "       [13,  9,  4, 11, 17,  6,  8, 12,  2, 19, 21, 15, 14, 10,  7,  1,\n",
       "        20, 16,  5,  3, 22, 18],\n",
       "       [ 7, 16, 12, 11,  8,  5,  9, 21,  4,  6, 22,  2,  1, 19, 20, 10,\n",
       "        14, 17,  3, 13, 18, 15],\n",
       "       [ 4,  8, 11,  7,  3, 22, 21,  9, 16, 20, 13, 17, 10, 19, 12,  1,\n",
       "        18,  2, 14,  6,  5, 15],\n",
       "       [ 2,  7, 12, 22, 15, 20,  3,  6,  8, 11, 14, 18, 10,  1, 13,  5,\n",
       "        17, 19,  4,  9, 21, 16],\n",
       "       [21,  6, 14,  3,  1, 20,  2, 15, 11,  5, 16, 17, 22,  7, 18, 12,\n",
       "        19,  9,  4, 10,  8, 13],\n",
       "       [ 1, 18,  9, 17, 12, 20,  2, 16,  4, 14, 21,  6,  7,  8, 10, 19,\n",
       "         3,  5, 13, 11, 15, 22]])"
      ]
     },
     "execution_count": 11,
     "metadata": {},
     "output_type": "execute_result"
    }
   ],
   "source": [
    "A1"
   ]
  },
  {
   "cell_type": "code",
   "execution_count": null,
   "metadata": {},
   "outputs": [
    {
     "data": {
      "text/plain": [
       "array([[0, 0, 1, 0, 1, 1, 0, 0, 0, 0, 0, 1, 0, 1, 0, 1, 1, 1, 0, 1, 0, 0],\n",
       "       [0, 0, 1, 1, 0, 1, 1, 0, 0, 1, 0, 0, 0, 1, 1, 1, 0, 1, 1, 0, 0, 1],\n",
       "       [1, 1, 1, 0, 0, 1, 0, 1, 0, 1, 0, 0, 0, 0, 1, 0, 1, 0, 1, 1, 0, 1],\n",
       "       [1, 0, 1, 1, 0, 0, 0, 0, 1, 1, 0, 1, 0, 0, 1, 0, 1, 0, 1, 0, 0, 1],\n",
       "       [0, 1, 0, 0, 1, 0, 0, 1, 0, 0, 0, 1, 1, 1, 0, 1, 1, 0, 0, 0, 1, 1],\n",
       "       [0, 0, 0, 0, 0, 0, 1, 0, 0, 0, 1, 1, 1, 0, 1, 1, 1, 0, 0, 1, 0, 0],\n",
       "       [0, 1, 0, 1, 1, 0, 0, 0, 0, 1, 0, 1, 1, 0, 0, 1, 0, 1, 1, 1, 0, 0],\n",
       "       [1, 0, 1, 1, 1, 0, 0, 0, 0, 0, 0, 1, 0, 0, 1, 1, 1, 0, 1, 1, 0, 0],\n",
       "       [1, 0, 0, 1, 1, 1, 0, 1, 0, 0, 1, 1, 1, 0, 0, 1, 1, 0, 0, 0, 1, 0],\n",
       "       [0, 0, 1, 0, 0, 1, 1, 0, 0, 1, 1, 0, 0, 0, 1, 0, 0, 1, 1, 1, 1, 0],\n",
       "       [1, 0, 0, 1, 0, 1, 1, 0, 1, 1, 1, 1, 1, 1, 1, 0, 0, 1, 1, 0, 1, 0],\n",
       "       [0, 1, 0, 0, 0, 1, 1, 1, 0, 1, 1, 0, 0, 1, 0, 0, 1, 0, 1, 0, 0, 0],\n",
       "       [1, 0, 0, 0, 1, 1, 0, 0, 0, 1, 0, 1, 0, 0, 1, 1, 0, 1, 0, 0, 0, 1],\n",
       "       [0, 0, 0, 1, 0, 0, 0, 0, 1, 1, 0, 0, 0, 0, 1, 1, 1, 0, 0, 0, 1, 1],\n",
       "       [1, 1, 0, 1, 0, 0, 0, 0, 0, 0, 0, 1, 0, 1, 1, 0, 1, 0, 1, 0, 0, 1],\n",
       "       [1, 0, 1, 1, 1, 0, 0, 0, 1, 0, 1, 0, 1, 1, 1, 0, 1, 1, 1, 0, 1, 1],\n",
       "       [1, 0, 1, 1, 1, 1, 1, 0, 0, 1, 0, 0, 0, 1, 0, 1, 1, 0, 0, 1, 0, 0],\n",
       "       [0, 0, 0, 0, 0, 0, 1, 0, 1, 1, 1, 0, 0, 1, 1, 1, 0, 1, 0, 0, 0, 0],\n",
       "       [0, 0, 1, 1, 1, 0, 1, 1, 1, 1, 1, 1, 1, 0, 1, 1, 0, 1, 1, 0, 1, 1],\n",
       "       [1, 0, 1, 0, 0, 1, 0, 0, 1, 1, 0, 0, 0, 0, 0, 0, 1, 0, 1, 0, 0, 0],\n",
       "       [0, 0, 0, 1, 0, 0, 0, 0, 1, 0, 1, 0, 1, 1, 0, 1, 0, 0, 0, 0, 1, 0],\n",
       "       [0, 1, 0, 0, 1, 1, 1, 1, 1, 0, 0, 1, 1, 1, 1, 1, 0, 1, 1, 0, 1, 0]])"
      ]
     },
     "execution_count": 12,
     "metadata": {},
     "output_type": "execute_result"
    }
   ],
   "source": [
    "A2"
   ]
  },
  {
   "cell_type": "markdown",
   "metadata": {},
   "source": [
    "## Part 1.2 - Optimization Problems\n",
    "### A. Minimizing Total Preference"
   ]
  },
  {
   "cell_type": "code",
   "execution_count": 13,
   "metadata": {},
   "outputs": [
    {
     "name": "stdout",
     "output_type": "stream",
     "text": [
      "Gurobi Optimizer version 12.0.0 build v12.0.0rc1 (mac64[rosetta2] - Darwin 23.6.0 23H222)\n",
      "\n",
      "CPU model: Apple M3\n",
      "Thread count: 8 physical cores, 8 logical processors, using up to 8 threads\n",
      "\n",
      "Optimize a model with 44 rows, 484 columns and 968 nonzeros\n",
      "Model fingerprint: 0x658ae1ca\n",
      "Variable types: 0 continuous, 484 integer (484 binary)\n",
      "Coefficient statistics:\n",
      "  Matrix range     [1e+00, 1e+00]\n",
      "  Objective range  [1e+00, 2e+01]\n",
      "  Bounds range     [1e+00, 1e+00]\n",
      "  RHS range        [1e+00, 1e+00]\n",
      "Found heuristic solution: objective 243.0000000\n",
      "Presolve time: 0.00s\n",
      "Presolved: 44 rows, 484 columns, 968 nonzeros\n",
      "Variable types: 0 continuous, 484 integer (484 binary)\n",
      "\n",
      "Root relaxation: objective 3.400000e+01, 38 iterations, 0.00 seconds (0.00 work units)\n",
      "\n",
      "    Nodes    |    Current Node    |     Objective Bounds      |     Work\n",
      " Expl Unexpl |  Obj  Depth IntInf | Incumbent    BestBd   Gap | It/Node Time\n",
      "\n",
      "*    0     0               0      34.0000000   34.00000  0.00%     -    0s\n",
      "\n",
      "Explored 1 nodes (38 simplex iterations) in 0.01 seconds (0.00 work units)\n",
      "Thread count was 8 (of 8 available processors)\n",
      "\n",
      "Solution count 2: 34 243 \n",
      "\n",
      "Optimal solution found (tolerance 1.00e-04)\n",
      "Best objective 3.400000000000e+01, best bound 3.400000000000e+01, gap 0.0000%\n"
     ]
    }
   ],
   "source": [
    "N = len(A1)\n",
    "model = gp.Model(\"Minimize_Total_Preference\")\n",
    "x = model.addVars(N, N, vtype=GRB.BINARY, name=\"x\")\n",
    "\n",
    "# Objective\n",
    "model.setObjective(gp.quicksum(A1[i, j] * x[i, j] for i in range(N) for j in range(N)), GRB.MINIMIZE)\n",
    "\n",
    "# Constraints\n",
    "model.addConstrs((gp.quicksum(x[i, j] for j in range(N)) == 1 for i in range(N)), name=\"Patient_Receive\")\n",
    "model.addConstrs((gp.quicksum(x[i, j] for i in range(N)) == 1 for j in range(N)), name=\"Donor_Donate\")\n",
    "\n",
    "model.optimize()"
   ]
  },
  {
   "cell_type": "markdown",
   "metadata": {},
   "source": [
    "### A. Minimizing Maximum Preference"
   ]
  },
  {
   "cell_type": "code",
   "execution_count": null,
   "metadata": {},
   "outputs": [
    {
     "name": "stdout",
     "output_type": "stream",
     "text": [
      "Gurobi Optimizer version 12.0.0 build v12.0.0rc1 (mac64[rosetta2] - Darwin 23.6.0 23H222)\n",
      "\n",
      "CPU model: Apple M3\n",
      "Thread count: 8 physical cores, 8 logical processors, using up to 8 threads\n",
      "\n",
      "Optimize a model with 528 rows, 485 columns and 1936 nonzeros\n",
      "Model fingerprint: 0x15bca728\n",
      "Variable types: 0 continuous, 485 integer (484 binary)\n",
      "Coefficient statistics:\n",
      "  Matrix range     [1e+00, 2e+01]\n",
      "  Objective range  [1e+00, 1e+00]\n",
      "  Bounds range     [1e+00, 1e+00]\n",
      "  RHS range        [1e+00, 1e+00]\n",
      "Found heuristic solution: objective 22.0000000\n",
      "Presolve removed 461 rows and 0 columns\n",
      "Presolve time: 0.01s\n",
      "Presolved: 67 rows, 485 columns, 1453 nonzeros\n",
      "Variable types: 0 continuous, 485 integer (484 binary)\n",
      "\n",
      "Root relaxation: objective 2.875000e+00, 97 iterations, 0.00 seconds (0.00 work units)\n",
      "\n",
      "    Nodes    |    Current Node    |     Objective Bounds      |     Work\n",
      " Expl Unexpl |  Obj  Depth IntInf | Incumbent    BestBd   Gap | It/Node Time\n",
      "\n",
      "     0     0    2.87500    0   27   22.00000    2.87500  86.9%     -    0s\n",
      "H    0     0                      11.0000000    2.87500  73.9%     -    0s\n",
      "H    0     0                       3.0000000    2.87500  4.17%     -    0s\n",
      "     0     0    2.87500    0   27    3.00000    2.87500  4.17%     -    0s\n",
      "\n",
      "Explored 1 nodes (383 simplex iterations) in 0.02 seconds (0.01 work units)\n",
      "Thread count was 8 (of 8 available processors)\n",
      "\n",
      "Solution count 3: 3 11 22 \n",
      "\n",
      "Optimal solution found (tolerance 1.00e-04)\n",
      "Best objective 3.000000000000e+00, best bound 3.000000000000e+00, gap 0.0000%\n",
      "\n",
      "Optimal Maximum Preference: 3.0\n",
      "\n",
      "Selected Matches (Patient -> Donor) and Preferences:\n",
      "Patient 1 -> Donor 3, Preference Score: 2\n",
      "Patient 2 -> Donor 21, Preference Score: 1\n",
      "Patient 3 -> Donor 18, Preference Score: 1\n",
      "Patient 4 -> Donor 10, Preference Score: 1\n",
      "Patient 5 -> Donor 8, Preference Score: 1\n",
      "Patient 6 -> Donor 11, Preference Score: 3\n",
      "Patient 7 -> Donor 15, Preference Score: 3\n",
      "Patient 8 -> Donor 7, Preference Score: 1\n",
      "Patient 9 -> Donor 20, Preference Score: 3\n",
      "Patient 10 -> Donor 22, Preference Score: 3\n",
      "Patient 11 -> Donor 5, Preference Score: 2\n",
      "Patient 12 -> Donor 6, Preference Score: 1\n",
      "Patient 13 -> Donor 12, Preference Score: 1\n",
      "Patient 14 -> Donor 2, Preference Score: 1\n",
      "Patient 15 -> Donor 17, Preference Score: 1\n",
      "Patient 16 -> Donor 13, Preference Score: 1\n",
      "Patient 17 -> Donor 9, Preference Score: 2\n",
      "Patient 18 -> Donor 19, Preference Score: 3\n",
      "Patient 19 -> Donor 16, Preference Score: 1\n",
      "Patient 20 -> Donor 14, Preference Score: 1\n",
      "Patient 21 -> Donor 4, Preference Score: 3\n",
      "Patient 22 -> Donor 1, Preference Score: 1\n"
     ]
    }
   ],
   "source": [
    "model = gp.Model(\"Minimize_Maximum_Preference\")\n",
    "\n",
    "x = model.addVars(N, N, vtype=GRB.BINARY, name=\"x\")  # binary assignment variable\n",
    "z = model.addVar(vtype=GRB.INTEGER, name=\"z\")  # max preference variable\n",
    "\n",
    "model.setObjective(z, GRB.MINIMIZE)\n",
    "\n",
    "model.addConstrs((gp.quicksum(x[i, j] for j in range(N)) == 1 for i in range(N)), name=\"Patient_Receive\")\n",
    "\n",
    "model.addConstrs((gp.quicksum(x[i, j] for i in range(N)) == 1 for j in range(N)), name=\"Donor_Donate\")\n",
    "\n",
    "model.addConstrs((A1[i, j] * x[i, j] <= z for i in range(N) for j in range(N)), name=\"Max_Preference\")\n",
    "\n",
    "model.optimize()\n",
    "\n",
    "if model.status == GRB.OPTIMAL:\n",
    "    print(f\"\\nOptimal Maximum Preference: {model.objVal}\\n\")\n",
    "    solution = [(i + 1, j + 1, A1[i, j]) for i in range(N) for j in range(N) if x[i, j].x > 0.5]\n",
    "    print(\"Selected Matches (Patient -> Donor) and Preferences:\")\n",
    "    for match in solution:\n",
    "        print(f\"Patient {match[0]} -> Donor {match[1]}, Preference Score: {match[2]}\")\n",
    "else:\n",
    "    print(\"No optimal solution found.\")"
   ]
  },
  {
   "cell_type": "markdown",
   "metadata": {},
   "source": [
    "## Part 1.3. 2-Way Exchanges"
   ]
  },
  {
   "cell_type": "code",
   "execution_count": null,
   "metadata": {},
   "outputs": [
    {
     "name": "stdout",
     "output_type": "stream",
     "text": [
      "Gurobi Optimizer version 12.0.0 build v12.0.0rc1 (mac64[rosetta2] - Darwin 23.6.0 23H222)\n",
      "\n",
      "CPU model: Apple M3\n",
      "Thread count: 8 physical cores, 8 logical processors, using up to 8 threads\n",
      "\n",
      "Optimize a model with 990 rows, 484 columns and 2376 nonzeros\n",
      "Model fingerprint: 0xa9c8986a\n",
      "Variable types: 0 continuous, 484 integer (484 binary)\n",
      "Coefficient statistics:\n",
      "  Matrix range     [1e+00, 1e+00]\n",
      "  Objective range  [1e+00, 1e+00]\n",
      "  Bounds range     [1e+00, 1e+00]\n",
      "  RHS range        [1e+00, 1e+00]\n",
      "Found heuristic solution: objective 21.0000000\n",
      "Presolve removed 885 rows and 258 columns\n",
      "Presolve time: 0.00s\n",
      "Presolved: 105 rows, 226 columns, 620 nonzeros\n",
      "Variable types: 0 continuous, 226 integer (226 binary)\n",
      "\n",
      "Root relaxation: objective 2.200000e+01, 47 iterations, 0.00 seconds (0.00 work units)\n",
      "\n",
      "    Nodes    |    Current Node    |     Objective Bounds      |     Work\n",
      " Expl Unexpl |  Obj  Depth IntInf | Incumbent    BestBd   Gap | It/Node Time\n",
      "\n",
      "*    0     0               0      22.0000000   22.00000  0.00%     -    0s\n",
      "\n",
      "Explored 1 nodes (47 simplex iterations) in 0.01 seconds (0.00 work units)\n",
      "Thread count was 8 (of 8 available processors)\n",
      "\n",
      "Solution count 2: 22 21 \n",
      "\n",
      "Optimal solution found (tolerance 1.00e-04)\n",
      "Best objective 2.200000000000e+01, best bound 2.200000000000e+01, gap 0.0000%\n",
      "\n",
      "Total Successful 2-Way Exchanges: 22.0\n",
      "\n",
      "Selected Matches (Patient -> Donor):\n",
      "Patient 1 -> Donor 5\n",
      "Patient 2 -> Donor 6\n",
      "Patient 3 -> Donor 8\n",
      "Patient 4 -> Donor 1\n",
      "Patient 5 -> Donor 2\n",
      "Patient 6 -> Donor 13\n",
      "Patient 7 -> Donor 20\n",
      "Patient 8 -> Donor 16\n",
      "Patient 9 -> Donor 11\n",
      "Patient 10 -> Donor 3\n",
      "Patient 11 -> Donor 15\n",
      "Patient 12 -> Donor 17\n",
      "Patient 13 -> Donor 18\n",
      "Patient 14 -> Donor 9\n",
      "Patient 15 -> Donor 12\n",
      "Patient 16 -> Donor 22\n",
      "Patient 17 -> Donor 10\n",
      "Patient 18 -> Donor 7\n",
      "Patient 19 -> Donor 21\n",
      "Patient 20 -> Donor 19\n",
      "Patient 21 -> Donor 4\n",
      "Patient 22 -> Donor 14\n"
     ]
    }
   ],
   "source": [
    "\n",
    "model = gp.Model(\"2-Way Kidney Exchange\")\n",
    "\n",
    "x = model.addVars(N, N, vtype=GRB.BINARY, name=\"x\")  # Binary assignment variable\n",
    "\n",
    "model.setObjective(gp.quicksum(x[i, j] for i in range(N) for j in range(N)), GRB.MAXIMIZE)\n",
    "\n",
    "model.addConstrs((gp.quicksum(x[i, j] for j in range(N)) <= 1 for i in range(N)), name=\"Patient_Receive\")\n",
    "\n",
    "model.addConstrs((gp.quicksum(x[i, j] for i in range(N)) <= 1 for j in range(N)), name=\"Donor_Donate\")\n",
    "\n",
    "model.addConstrs((x[i, j] + x[j, i] <= 1 for i in range(N) for j in range(N) if i != j), name=\"Two_Way_Exchange\")\n",
    "\n",
    "model.addConstrs((x[i, j] <= A2[i, j] for i in range(N) for j in range(N)), name=\"Compatibility\")\n",
    "\n",
    "model.optimize()\n",
    "\n",
    "if model.status == GRB.OPTIMAL:\n",
    "    print(f\"\\nTotal Successful 2-Way Exchanges: {model.objVal}\\n\")\n",
    "    solution = [(i + 1, j + 1) for i in range(N) for j in range(N) if x[i, j].x > 0.5]\n",
    "    print(\"Selected Matches (Patient -> Donor):\")\n",
    "    for match in solution:\n",
    "        print(f\"Patient {match[0]} -> Donor {match[1]}\")\n",
    "else:\n",
    "    print(\"No optimal solution found.\")"
   ]
  },
  {
   "cell_type": "markdown",
   "metadata": {},
   "source": [
    "## Part 2.1. Additional Priority and Compatibility Restrictions\n",
    "### Restricting  the exchange to 2-way swaps and applying additional constraints based on priority order and preference thresholds"
   ]
  },
  {
   "cell_type": "code",
   "execution_count": 24,
   "metadata": {},
   "outputs": [
    {
     "name": "stdout",
     "output_type": "stream",
     "text": [
      "Gurobi Optimizer version 12.0.0 build v12.0.0rc1 (mac64[rosetta2] - Darwin 23.6.0 23H222)\n",
      "\n",
      "CPU model: Apple M3\n",
      "Thread count: 8 physical cores, 8 logical processors, using up to 8 threads\n",
      "\n",
      "Optimize a model with 770 rows, 484 columns and 2156 nonzeros\n",
      "Model fingerprint: 0xd1d8a1f7\n",
      "Variable types: 0 continuous, 484 integer (484 binary)\n",
      "Coefficient statistics:\n",
      "  Matrix range     [1e+00, 1e+00]\n",
      "  Objective range  [1e+00, 2e+01]\n",
      "  Bounds range     [1e+00, 1e+00]\n",
      "  RHS range        [1e+00, 1e+00]\n",
      "Found heuristic solution: objective 110.0000000\n",
      "Presolve removed 750 rows and 448 columns\n",
      "Presolve time: 0.00s\n",
      "Presolved: 20 rows, 36 columns, 73 nonzeros\n",
      "Found heuristic solution: objective 133.0000000\n",
      "Variable types: 0 continuous, 36 integer (36 binary)\n",
      "Found heuristic solution: objective 252.0000000\n",
      "\n",
      "Root relaxation: objective 2.530000e+02, 15 iterations, 0.00 seconds (0.00 work units)\n",
      "\n",
      "    Nodes    |    Current Node    |     Objective Bounds      |     Work\n",
      " Expl Unexpl |  Obj  Depth IntInf | Incumbent    BestBd   Gap | It/Node Time\n",
      "\n",
      "*    0     0               0     253.0000000  253.00000  0.00%     -    0s\n",
      "\n",
      "Explored 1 nodes (15 simplex iterations) in 0.01 seconds (0.00 work units)\n",
      "Thread count was 8 (of 8 available processors)\n",
      "\n",
      "Solution count 4: 253 252 133 110 \n",
      "\n",
      "Optimal solution found (tolerance 1.00e-04)\n",
      "Best objective 2.530000000000e+02, best bound 2.530000000000e+02, gap 0.0000%\n"
     ]
    }
   ],
   "source": [
    "    N = len(A2)\n",
    "\n",
    "    model = gp.Model(\"2-Way_Exchange_Priority\")\n",
    "    \n",
    "    x = model.addVars(N, N, vtype=GRB.BINARY, name=\"x\")\n",
    "    \n",
    "    model.addConstrs((gp.quicksum(x[i, j] for j in range(N)) <= 1 for i in range(N)), name=\"Patient_Receive\")\n",
    "    model.addConstrs((gp.quicksum(x[j, i] for j in range(N)) <= 1 for i in range(N)), name=\"Donor_Donate\")\n",
    "\n",
    "    model.addConstrs((x[i, j] == x[j, i] for i in range(N) for j in range(N) if i != j), name=\"Two_Way_Exchange\")\n",
    "\n",
    "    model.addConstrs((x[i, j] == 0 for i in range(N) for j in range(N) if A1[i, j] >= 11), name=\"Preference_Threshold\")\n",
    "\n",
    "    model.setObjective(gp.quicksum((N - i) * x[i, j] for i in range(N) for j in range(N)), GRB.MAXIMIZE)\n",
    "\n",
    "    model.optimize()\n",
    "\n",
    "    assignment = np.zeros((N, N))\n",
    "    if model.status == GRB.OPTIMAL:\n",
    "        for i in range(N):\n",
    "            for j in range(N):\n",
    "                assignment[i, j] = x[i, j].X  \n",
    "    else:\n",
    "        print(\"No optimal solution found.\")"
   ]
  }
 ],
 "metadata": {
  "kernelspec": {
   "display_name": "base",
   "language": "python",
   "name": "python3"
  },
  "language_info": {
   "codemirror_mode": {
    "name": "ipython",
    "version": 3
   },
   "file_extension": ".py",
   "mimetype": "text/x-python",
   "name": "python",
   "nbconvert_exporter": "python",
   "pygments_lexer": "ipython3",
   "version": "3.9.13"
  }
 },
 "nbformat": 4,
 "nbformat_minor": 2
}
