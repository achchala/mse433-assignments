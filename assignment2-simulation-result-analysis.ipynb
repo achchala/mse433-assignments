{
 "cells": [
  {
   "cell_type": "code",
   "execution_count": 6,
   "metadata": {},
   "outputs": [],
   "source": [
    "import pandas as pd"
   ]
  },
  {
   "cell_type": "code",
   "execution_count": 7,
   "metadata": {},
   "outputs": [],
   "source": [
    "simulation_data = pd.DataFrame({\n",
    "    \"conv_num\": [1, 0, 0, 0, 1, 1, 2, 1, 1, 1, 1, 2, 0, 3, 2, 0, 0, 2, 2, 0, 0],\n",
    "    \"shape_num\": [4, 3, 1, 1, 4, 3, 4, 3, 3, 5, 5, 4, 2, 4, 5, 2, 2, 5, 2, 1, 1],\n",
    "    \"shape_name\": [\n",
    "        \"star\", \"heart\", \"circle\", \"circle\", \"star\", \"heart\", \"star\", \"heart\", \"heart\",\n",
    "        \"triangle\", \"triangle\", \"star\", \"cross\", \"star\", \"triangle\", \"cross\", \"cross\",\n",
    "        \"triangle\", \"cross\", \"circle\", \"circle\"\n",
    "    ],\n",
    "    \"time\": [\n",
    "        20.450559, 21.019809, 28.477298, 36.584615, 51.34701, 65.504128, 65.98705, 73.633413, \n",
    "        81.304735, 88.741723, 96.102092, 111.759804, 112.384639, 126.35678, 134.666003, \n",
    "        135.593813, 135.736311, 142.373193, 157.033376, 157.920035, 165.538025\n",
    "    ]\n",
    "})\n",
    "\n",
    "order_to_putwall = {\n",
    "    1: 0,  # Order 1 -> Putwall 0\n",
    "    2: 1,  # Order 2 -> Putwall 1\n",
    "    3: 2,  # Order 3 -> Putwall 2\n",
    "    4: 3,  # Order 4 -> Putwall 3\n",
    "    5: 0,  # Order 5 -> Putwall 0\n",
    "    6: 1   # Order 6 -> Putwall 1\n",
    "}"
   ]
  },
  {
   "cell_type": "code",
   "execution_count": 8,
   "metadata": {},
   "outputs": [],
   "source": [
    "actual_order_completion = {}\n",
    "for order, putwall in order_to_putwall.items():\n",
    "    order_times = simulation_data[simulation_data[\"conv_num\"] == putwall][\"time\"]\n",
    "    if not order_times.empty:\n",
    "        actual_order_completion[order] = max(order_times)"
   ]
  },
  {
   "cell_type": "code",
   "execution_count": 12,
   "metadata": {},
   "outputs": [],
   "source": [
    "predicted_order_completion = {\n",
    "    1: 13, 2: 19, 3: 21, 4: 1, 5: 7, 6: 2\n",
    "}\n",
    "\n",
    "adjusted_predicted_order_completion = {\n",
    "    order: (time * 7) + 14 for order, time in predicted_order_completion.items()\n",
    "}\n",
    "\n",
    "completion_comparison = pd.DataFrame({\n",
    "    \"Order\": actual_order_completion.keys(),\n",
    "    \"Adjusted Predicted Completion Time\": [adjusted_predicted_order_completion[o] for o in actual_order_completion.keys()],\n",
    "    \"Actual Completion Time\": [actual_order_completion[o] for o in actual_order_completion.keys()]\n",
    "})"
   ]
  },
  {
   "cell_type": "code",
   "execution_count": 13,
   "metadata": {},
   "outputs": [
    {
     "name": "stdout",
     "output_type": "stream",
     "text": [
      "   Order  Adjusted Predicted Completion Time  Actual Completion Time\n",
      "0      1                                 105              165.538025\n",
      "1      2                                 147               96.102092\n",
      "2      3                                 161              157.033376\n",
      "3      4                                  21              126.356780\n",
      "4      5                                  63              165.538025\n",
      "5      6                                  28               96.102092\n"
     ]
    }
   ],
   "source": [
    "print(completion_comparison)"
   ]
  }
 ],
 "metadata": {
  "kernelspec": {
   "display_name": "Python 3",
   "language": "python",
   "name": "python3"
  },
  "language_info": {
   "codemirror_mode": {
    "name": "ipython",
    "version": 3
   },
   "file_extension": ".py",
   "mimetype": "text/x-python",
   "name": "python",
   "nbconvert_exporter": "python",
   "pygments_lexer": "ipython3",
   "version": "3.11.3"
  }
 },
 "nbformat": 4,
 "nbformat_minor": 2
}
