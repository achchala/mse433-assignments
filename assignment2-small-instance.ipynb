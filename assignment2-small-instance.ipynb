{
 "cells": [
  {
   "cell_type": "code",
   "execution_count": 1,
   "metadata": {},
   "outputs": [],
   "source": [
    "import random\n",
    "import numpy as np\n",
    "import pandas as pd\n",
    "import pulp\n",
    "from pulp import LpMinimize, LpProblem, LpVariable, lpSum, LpMaximize"
   ]
  },
  {
   "cell_type": "code",
   "execution_count": 2,
   "metadata": {},
   "outputs": [],
   "source": [
    "def generate_random_number(seed,begin,end):\n",
    "    random.seed(seed)  # Set the random seed\n",
    "    return random.randint(begin, end)\n",
    "\n"
   ]
  },
  {
   "cell_type": "code",
   "execution_count": 3,
   "metadata": {},
   "outputs": [],
   "source": [
    "seed = 614 #0614 -> Danick's id 20880614"
   ]
  },
  {
   "cell_type": "code",
   "execution_count": 4,
   "metadata": {},
   "outputs": [],
   "source": [
    "def generate_instance(n_orders,n_itemtypes,n_totes,max_item_quantity=3)->dict:\n",
    "\n",
    "    order_itemtypes = [[] for _ in range(n_orders)]  # Initialize an empty list of lists\n",
    "    order_quantities = [[] for _ in range(n_orders)]\n",
    "    for i in range(n_orders):\n",
    "        order_size = random.randint(1, 3)\n",
    "\n",
    "        tt = random.sample(range(1, n_itemtypes+1), order_size)\n",
    "        qq = [random.randint(1, max_item_quantity) for _ in range(order_size)]\n",
    "        order_itemtypes[i] = (tt)\n",
    "        order_quantities[i] = (qq)\n",
    "\n",
    "    orders_totes = [[] for _ in range(n_orders)]\n",
    "    for i in range(n_orders):\n",
    "        for j in range(len(order_itemtypes[i])):\n",
    "            if j == 0:\n",
    "                orders_totes[i].append(random.randint(1, n_totes))\n",
    "            else:\n",
    "                if random.randint(0, 1) == 0:\n",
    "                    orders_totes[i].append(orders_totes[i][0])\n",
    "                else:\n",
    "                    orders_totes[i].append(random.randint(1, n_totes))\n",
    "\n",
    "    return {\n",
    "        'orders':[x for x in range(1,1+n_orders)],\n",
    "        'item_types':[x for x in range(1,1+n_itemtypes)],\n",
    "        'totes':[x for x in range(1,1+n_totes)],\n",
    "        'order_item_types':order_itemtypes,\n",
    "        'order_item_quantities':order_quantities,\n",
    "        'order_item_totes':orders_totes\n",
    "    }"
   ]
  },
  {
   "cell_type": "code",
   "execution_count": 5,
   "metadata": {},
   "outputs": [],
   "source": [
    "small_instance=generate_instance(\n",
    "        n_orders=6,\n",
    "        n_itemtypes=5,\n",
    "        n_totes=8,\n",
    "        max_item_quantity=2\n",
    "    )"
   ]
  },
  {
   "cell_type": "code",
   "execution_count": 6,
   "metadata": {},
   "outputs": [],
   "source": [
    "large_instances=[\n",
    "    generate_instance(\n",
    "        n_orders=generate_random_number(seed,10,15),\n",
    "        n_itemtypes=generate_random_number(seed,7,10),\n",
    "        n_totes=generate_random_number(seed,15,20)\n",
    "    )\n",
    "    for _ \n",
    "    in range(10)\n",
    "]"
   ]
  },
  {
   "cell_type": "code",
   "execution_count": 7,
   "metadata": {},
   "outputs": [
    {
     "data": {
      "text/plain": [
       "{'orders': [1, 2, 3, 4, 5, 6],\n",
       " 'item_types': [1, 2, 3, 4, 5],\n",
       " 'totes': [1, 2, 3, 4, 5, 6, 7, 8],\n",
       " 'order_item_types': [[3, 1, 2], [3, 5, 4], [5, 2, 4], [4], [2, 1], [3]],\n",
       " 'order_item_quantities': [[1, 2, 1], [2, 2, 2], [2, 1, 2], [1], [2, 2], [1]],\n",
       " 'order_item_totes': [[2, 2, 6], [5, 5, 5], [6, 7, 3], [1], [7, 7], [4]]}"
      ]
     },
     "execution_count": 7,
     "metadata": {},
     "output_type": "execute_result"
    }
   ],
   "source": [
    "small_instance"
   ]
  },
  {
   "cell_type": "code",
   "execution_count": 8,
   "metadata": {},
   "outputs": [],
   "source": [
    "class Model:\n",
    "    def __init__(\n",
    "        self,\n",
    "        orders,\n",
    "        totes,\n",
    "        order_item_totes,\n",
    "        order_item_quantities,\n",
    "        order_item_types,\n",
    "        item_types,\n",
    "        use_heuristic=False\n",
    "    ):\n",
    "        self.K = orders\n",
    "        self.J = totes\n",
    "        self.J0 = [0]+totes\n",
    "        self.Jn1 = totes+[len(totes)+1]\n",
    "        self.Jk = order_item_totes\n",
    "\n",
    "        self.order_item_types = order_item_types\n",
    "        self.order_item_quantities = order_item_quantities\n",
    "        self.item_types = item_types\n",
    "\n",
    "        self.tote_content = [[] for _ in range(len(totes))]\n",
    "        for order_i, _ in enumerate(order_item_totes):\n",
    "            for (\n",
    "                order_item_i, order_item_quantity\n",
    "            ) in enumerate(order_item_quantities[order_i]):\n",
    "                self.tote_content[\n",
    "                    order_item_totes[order_i][order_item_i] -1\n",
    "                ] += [\n",
    "                    order_item_types[order_i][order_item_i]\n",
    "                ]*order_item_quantity\n",
    "\n",
    "        #self.p = [max(0.01,len(tote)) for tote in self.tote_content]\n",
    "        self.p = [len(tote) for tote in self.tote_content]\n",
    "\n",
    "        self.M = sum(len(tote) for tote in self.tote_content) + 1\n",
    "\n",
    "        self._initiate_model(use_heuristic)\n",
    "\n",
    "    def _initiate_model(self, use_heuristic=False):\n",
    "\n",
    "        self.model = LpProblem(sense=LpMinimize)\n",
    "\n",
    "        # xij\n",
    "        self.x = [\n",
    "            [\n",
    "                LpVariable(f'x_i{i}_j{j}', lowBound=0, cat='Binary')\n",
    "                for j in range(len(self.J)+2)\n",
    "            ]\n",
    "            for i in range(len(self.J)+2)\n",
    "        ]\n",
    "        \n",
    "        # cj\n",
    "        self.c = [LpVariable(f'c_j{j}', lowBound=0) for j in self.J]\n",
    "        \n",
    "        # cok\n",
    "        self.co = [LpVariable(f'co_j{k}', lowBound=0) for k in self.K]\n",
    "        \n",
    "        # objective\n",
    "        self.model += lpSum(self.co[k_i] for k_i, k in enumerate(self.K))\n",
    "        \n",
    "        # constraint 1 -> all totes must be used\n",
    "        for j in self.J:\n",
    "            self.model += lpSum(self.x[i][j] for i in self.J0) == 1\n",
    "        \n",
    "        # constraint 2 -> one induction line\n",
    "        self.model += lpSum(self.x[0][j] for j in self.J) == 1\n",
    "        \n",
    "        # constraint 3 -> all preceded tote must precede\n",
    "        for j in self.J:\n",
    "            self.model += lpSum(\n",
    "                self.x[i][j] for i in self.J0\n",
    "            )-lpSum(\n",
    "                self.x[j][i] for i in self.Jn1\n",
    "            ) == 0\n",
    "        \n",
    "        # constraint 4 -> first tote completion time is it's own\n",
    "        for j_i, j in enumerate(self.J):\n",
    "            self.model += self.c[j_i] >= self.p[j_i]*self.x[0][j]\n",
    "        \n",
    "        # constraint 5 -> tote completion time is itself plus all preceding\n",
    "        for j_i, j in enumerate(self.J):\n",
    "            for i_i, i in enumerate(self.J):\n",
    "                self.model += self.c[j_i] >= (\n",
    "                    (self.c[i_i]+self.p[j_i])-self.M*(1-self.x[i][j])\n",
    "                )\n",
    "        \n",
    "        # constraint 6 -> order completion is its latest completed tote\n",
    "        for k_i, k in enumerate(self.K):\n",
    "            for tote in self.Jk[k_i]:\n",
    "                self.model += self.co[k_i] >= self.c[tote-1]\n",
    "\n",
    "        if use_heuristic:\n",
    "            order_tote_count=[len(order_totes) for order_totes in self.Jk]\n",
    "            max_tote_count=max(order_tote_count)\n",
    "\n",
    "            #add totes of orders with the fewest tote first\n",
    "            solution=[]\n",
    "            for tote_count in range(1,max_tote_count+1):\n",
    "                for order_totes in self.Jk:\n",
    "                    if len(order_totes)==tote_count:\n",
    "                        for tote in order_totes:\n",
    "                            if not tote in solution:\n",
    "                                solution.append(tote)\n",
    "            #add empty totes at the end\n",
    "            for empty_tote in [\n",
    "                tote for tote in self.J if tote not in solution\n",
    "            ]:\n",
    "                solution.append(empty_tote)\n",
    "\n",
    "            prev=0\n",
    "            for tote in solution:\n",
    "                self.model += self.x[prev][tote] == 1 \n",
    "                prev=tote\n",
    "            self.model += self.x[prev][self.Jn1[-1]] == 1\n",
    "\n",
    "    def solve(self, solver='CPLEX_CMD'):\n",
    "        self.model.solve(solver=pulp.getSolver(solver))\n",
    "\n",
    "        print('Objective: ' + str(pulp.value(self.model.objective)))\n",
    "\n",
    "    def reset_model(self):\n",
    "        self._initiate_model()\n",
    "\n",
    "    @property\n",
    "    def objective(self):\n",
    "        return round(pulp.value(self.model.objective))\n",
    "    \n",
    "    def _value(self,x):\n",
    "            v=pulp.value(x)\n",
    "            if v:\n",
    "                return round(v)\n",
    "            else:\n",
    "                return 0\n",
    "    \n",
    "    def get_x_value(self):\n",
    "        \n",
    "            \n",
    "        x = [\n",
    "            [\n",
    "                self._value(self.x[i][j])\n",
    "                for j in range(len(self.J)+2)\n",
    "            ]\n",
    "            for i in range(len(self.J)+2)\n",
    "        ]\n",
    "\n",
    "        return x\n",
    "    \n",
    "    def get_co_value(self):\n",
    "        return [self._value(self.co[k_i]) for k_i,_ in enumerate(self.K)]\n",
    "    \n",
    "    def get_c_value(self):\n",
    "        return [self._value(self.c[j_i]) for j_i,_ in enumerate(self.J)]\n",
    "\n",
    "    @property\n",
    "    def solution(self):\n",
    "        \"\"\"\n",
    "        Returns the order of the totes first one on the left.\n",
    "        \"\"\"\n",
    "        x = self.get_x_value()\n",
    "\n",
    "        totes = []\n",
    "\n",
    "        next = 0\n",
    "        while next != self.Jn1[-1]:\n",
    "            index = x[next].index(1)\n",
    "            totes.append(index)\n",
    "            next = index\n",
    "\n",
    "        return totes[:-1]\n",
    "\n",
    "    def get_simulation_input(self, conveyor_count=4):\n",
    "        # conv_num,cirle,pentagon,trapezoid,triangle,star,moon,heart,cross\n",
    "        assignment = [[] for _ in range(conveyor_count)]\n",
    "        for k in self.K:\n",
    "            assignment[(k-1) % 4].append(k)\n",
    "\n",
    "        conveyor_picklist = [\n",
    "            [0 for _ in range(len(self.item_types)+1)] \n",
    "            for _ in range(conveyor_count)\n",
    "        ]\n",
    "        for conveyor_i, conveyor in enumerate(assignment):\n",
    "            for order in conveyor:\n",
    "                order_i = order-1\n",
    "                for item_i, type in enumerate(self.order_item_types[order_i]):\n",
    "                    conveyor_picklist[conveyor_i][type] += (\n",
    "                        self.order_item_quantities[order_i][item_i]\n",
    "                    )\n",
    "        for index, picklist in enumerate(conveyor_picklist):\n",
    "            picklist[0]=index\n",
    "\n",
    "\n",
    "        if len(self.item_types) == 5:\n",
    "            columns = ['conv_num', 'cirle', 'cross',\n",
    "                       'heart', 'star', 'triangle']\n",
    "        else:\n",
    "            columns = ['conv_num'] + [\n",
    "                'shape' + str(type) for type in self.item_types\n",
    "            ]\n",
    "\n",
    "        induction_line_items = sum(\n",
    "            [self.tote_content[tote_i] \n",
    "            for tote_i, _ in enumerate(self.solution)\n",
    "            ],\n",
    "            []\n",
    "        )\n",
    "        induction_line_input = [\n",
    "            columns[item_type] \n",
    "            for item_type in induction_line_items\n",
    "        ]\n",
    "\n",
    "        return {\n",
    "            'input_dataframe': pd.DataFrame(conveyor_picklist, columns=columns),\n",
    "            'order_conveyor_assignment': assignment,\n",
    "            'induction_line_input': induction_line_input\n",
    "        }"
   ]
  },
  {
   "cell_type": "code",
   "execution_count": 9,
   "metadata": {},
   "outputs": [],
   "source": [
    "small_model=Model(use_heuristic=True,**small_instance)"
   ]
  },
  {
   "cell_type": "code",
   "execution_count": 10,
   "metadata": {},
   "outputs": [
    {
     "data": {
      "text/plain": [
       "[[4],\n",
       " [3, 1, 1],\n",
       " [4, 4],\n",
       " [3],\n",
       " [3, 3, 5, 5, 4, 4],\n",
       " [2, 5, 5],\n",
       " [2, 2, 2, 1, 1],\n",
       " []]"
      ]
     },
     "execution_count": 10,
     "metadata": {},
     "output_type": "execute_result"
    }
   ],
   "source": [
    "small_model.tote_content"
   ]
  },
  {
   "cell_type": "code",
   "execution_count": 11,
   "metadata": {},
   "outputs": [
    {
     "data": {
      "text/plain": [
       "[[2, 2, 6], [5, 5, 5], [6, 7, 3], [1], [7, 7], [4]]"
      ]
     },
     "execution_count": 11,
     "metadata": {},
     "output_type": "execute_result"
    }
   ],
   "source": [
    "small_model.Jk"
   ]
  },
  {
   "cell_type": "code",
   "execution_count": 12,
   "metadata": {},
   "outputs": [
    {
     "name": "stdout",
     "output_type": "stream",
     "text": [
      "Objective: 63.0\n"
     ]
    }
   ],
   "source": [
    "small_model.solve(solver='CPLEX_CMD')"
   ]
  },
  {
   "cell_type": "code",
   "execution_count": 13,
   "metadata": {},
   "outputs": [
    {
     "data": {
      "text/plain": [
       "63"
      ]
     },
     "execution_count": 13,
     "metadata": {},
     "output_type": "execute_result"
    }
   ],
   "source": [
    "small_model.objective"
   ]
  },
  {
   "cell_type": "code",
   "execution_count": 14,
   "metadata": {},
   "outputs": [
    {
     "data": {
      "text/plain": [
       "[[0, 1, 0, 0, 0, 0, 0, 0, 0, 0],\n",
       " [0, 0, 0, 0, 1, 0, 0, 0, 0, 0],\n",
       " [0, 0, 0, 0, 0, 0, 1, 0, 0, 0],\n",
       " [0, 0, 0, 0, 0, 0, 0, 0, 1, 0],\n",
       " [0, 0, 0, 0, 0, 0, 0, 1, 0, 0],\n",
       " [0, 0, 0, 1, 0, 0, 0, 0, 0, 0],\n",
       " [0, 0, 0, 0, 0, 1, 0, 0, 0, 0],\n",
       " [0, 0, 1, 0, 0, 0, 0, 0, 0, 0],\n",
       " [0, 0, 0, 0, 0, 0, 0, 0, 0, 1],\n",
       " [0, 0, 0, 0, 0, 0, 0, 0, 0, 0]]"
      ]
     },
     "execution_count": 14,
     "metadata": {},
     "output_type": "execute_result"
    }
   ],
   "source": [
    "small_model.get_x_value()"
   ]
  },
  {
   "cell_type": "code",
   "execution_count": 15,
   "metadata": {},
   "outputs": [
    {
     "data": {
      "text/plain": [
       "[1, 10, 21, 2, 19, 13, 7, 21]"
      ]
     },
     "execution_count": 15,
     "metadata": {},
     "output_type": "execute_result"
    }
   ],
   "source": [
    "small_model.get_c_value()"
   ]
  },
  {
   "cell_type": "code",
   "execution_count": 16,
   "metadata": {},
   "outputs": [
    {
     "data": {
      "text/plain": [
       "[13, 19, 21, 1, 7, 2]"
      ]
     },
     "execution_count": 16,
     "metadata": {},
     "output_type": "execute_result"
    }
   ],
   "source": [
    "small_model.get_co_value()"
   ]
  },
  {
   "cell_type": "code",
   "execution_count": 17,
   "metadata": {},
   "outputs": [
    {
     "data": {
      "text/plain": [
       "[1, 4, 7, 2, 6, 5, 3, 8]"
      ]
     },
     "execution_count": 17,
     "metadata": {},
     "output_type": "execute_result"
    }
   ],
   "source": [
    "small_model.solution"
   ]
  },
  {
   "cell_type": "code",
   "execution_count": 18,
   "metadata": {},
   "outputs": [
    {
     "data": {
      "text/plain": [
       "dict_keys(['input_dataframe', 'order_conveyor_assignment', 'induction_line_input'])"
      ]
     },
     "execution_count": 18,
     "metadata": {},
     "output_type": "execute_result"
    }
   ],
   "source": [
    "input=small_model.get_simulation_input()\n",
    "input.keys()"
   ]
  },
  {
   "cell_type": "code",
   "execution_count": 19,
   "metadata": {},
   "outputs": [
    {
     "data": {
      "text/html": [
       "<div>\n",
       "<style scoped>\n",
       "    .dataframe tbody tr th:only-of-type {\n",
       "        vertical-align: middle;\n",
       "    }\n",
       "\n",
       "    .dataframe tbody tr th {\n",
       "        vertical-align: top;\n",
       "    }\n",
       "\n",
       "    .dataframe thead th {\n",
       "        text-align: right;\n",
       "    }\n",
       "</style>\n",
       "<table border=\"1\" class=\"dataframe\">\n",
       "  <thead>\n",
       "    <tr style=\"text-align: right;\">\n",
       "      <th></th>\n",
       "      <th>conv_num</th>\n",
       "      <th>cirle</th>\n",
       "      <th>cross</th>\n",
       "      <th>heart</th>\n",
       "      <th>star</th>\n",
       "      <th>triangle</th>\n",
       "    </tr>\n",
       "  </thead>\n",
       "  <tbody>\n",
       "    <tr>\n",
       "      <th>0</th>\n",
       "      <td>0</td>\n",
       "      <td>4</td>\n",
       "      <td>3</td>\n",
       "      <td>1</td>\n",
       "      <td>0</td>\n",
       "      <td>0</td>\n",
       "    </tr>\n",
       "    <tr>\n",
       "      <th>1</th>\n",
       "      <td>1</td>\n",
       "      <td>0</td>\n",
       "      <td>0</td>\n",
       "      <td>3</td>\n",
       "      <td>2</td>\n",
       "      <td>2</td>\n",
       "    </tr>\n",
       "    <tr>\n",
       "      <th>2</th>\n",
       "      <td>2</td>\n",
       "      <td>0</td>\n",
       "      <td>1</td>\n",
       "      <td>0</td>\n",
       "      <td>2</td>\n",
       "      <td>2</td>\n",
       "    </tr>\n",
       "    <tr>\n",
       "      <th>3</th>\n",
       "      <td>3</td>\n",
       "      <td>0</td>\n",
       "      <td>0</td>\n",
       "      <td>0</td>\n",
       "      <td>1</td>\n",
       "      <td>0</td>\n",
       "    </tr>\n",
       "  </tbody>\n",
       "</table>\n",
       "</div>"
      ],
      "text/plain": [
       "   conv_num  cirle  cross  heart  star  triangle\n",
       "0         0      4      3      1     0         0\n",
       "1         1      0      0      3     2         2\n",
       "2         2      0      1      0     2         2\n",
       "3         3      0      0      0     1         0"
      ]
     },
     "execution_count": 19,
     "metadata": {},
     "output_type": "execute_result"
    }
   ],
   "source": [
    "input['input_dataframe']"
   ]
  },
  {
   "cell_type": "code",
   "execution_count": 20,
   "metadata": {},
   "outputs": [],
   "source": [
    "input['input_dataframe'].to_csv('simulation_input.csv',index=False)"
   ]
  },
  {
   "cell_type": "code",
   "execution_count": 21,
   "metadata": {},
   "outputs": [
    {
     "data": {
      "text/plain": [
       "[[1, 5], [2, 6], [3], [4]]"
      ]
     },
     "execution_count": 21,
     "metadata": {},
     "output_type": "execute_result"
    }
   ],
   "source": [
    "input['order_conveyor_assignment']"
   ]
  },
  {
   "cell_type": "code",
   "execution_count": 22,
   "metadata": {},
   "outputs": [
    {
     "data": {
      "text/plain": [
       "['star',\n",
       " 'heart',\n",
       " 'cirle',\n",
       " 'cirle',\n",
       " 'star',\n",
       " 'star',\n",
       " 'heart',\n",
       " 'heart',\n",
       " 'heart',\n",
       " 'triangle',\n",
       " 'triangle',\n",
       " 'star',\n",
       " 'star',\n",
       " 'cross',\n",
       " 'triangle',\n",
       " 'triangle',\n",
       " 'cross',\n",
       " 'cross',\n",
       " 'cross',\n",
       " 'cirle',\n",
       " 'cirle']"
      ]
     },
     "execution_count": 22,
     "metadata": {},
     "output_type": "execute_result"
    }
   ],
   "source": [
    "input['induction_line_input']"
   ]
  },
  {
   "cell_type": "code",
   "execution_count": 28,
   "metadata": {},
   "outputs": [],
   "source": [
    "temp=large_instances[0]\n",
    "big_model=Model(use_heuristic=False,**temp)"
   ]
  },
  {
   "cell_type": "code",
   "execution_count": 24,
   "metadata": {},
   "outputs": [
    {
     "data": {
      "text/plain": [
       "{'orders': [1, 2, 3, 4, 5, 6, 7, 8, 9, 10, 11, 12],\n",
       " 'item_types': [1, 2, 3, 4, 5, 6, 7, 8, 9],\n",
       " 'totes': [1, 2, 3, 4, 5, 6, 7, 8, 9, 10, 11, 12, 13, 14, 15, 16, 17],\n",
       " 'order_item_types': [[4],\n",
       "  [2, 9, 1],\n",
       "  [3, 7, 4],\n",
       "  [6, 7],\n",
       "  [6, 4, 2],\n",
       "  [9, 8],\n",
       "  [7, 2, 4],\n",
       "  [1, 3],\n",
       "  [9, 3, 2],\n",
       "  [4],\n",
       "  [6],\n",
       "  [8, 1, 9]],\n",
       " 'order_item_quantities': [[1],\n",
       "  [3, 1, 1],\n",
       "  [1, 2, 3],\n",
       "  [2, 2],\n",
       "  [1, 3, 1],\n",
       "  [2, 1],\n",
       "  [2, 2, 3],\n",
       "  [1, 2],\n",
       "  [3, 1, 2],\n",
       "  [2],\n",
       "  [1],\n",
       "  [3, 3, 2]],\n",
       " 'order_item_totes': [[13],\n",
       "  [15, 15, 15],\n",
       "  [11, 3, 11],\n",
       "  [7, 7],\n",
       "  [17, 13, 10],\n",
       "  [7, 14],\n",
       "  [5, 7, 5],\n",
       "  [14, 17],\n",
       "  [5, 15, 5],\n",
       "  [17],\n",
       "  [5],\n",
       "  [4, 4, 4]]}"
      ]
     },
     "execution_count": 24,
     "metadata": {},
     "output_type": "execute_result"
    }
   ],
   "source": [
    "temp"
   ]
  },
  {
   "cell_type": "code",
   "execution_count": 25,
   "metadata": {},
   "outputs": [
    {
     "data": {
      "text/plain": [
       "[[13],\n",
       " [15, 15, 15],\n",
       " [11, 3, 11],\n",
       " [7, 7],\n",
       " [17, 13, 10],\n",
       " [7, 14],\n",
       " [5, 7, 5],\n",
       " [14, 17],\n",
       " [5, 15, 5],\n",
       " [17],\n",
       " [5],\n",
       " [4, 4, 4]]"
      ]
     },
     "execution_count": 25,
     "metadata": {},
     "output_type": "execute_result"
    }
   ],
   "source": [
    "big_model.Jk"
   ]
  },
  {
   "cell_type": "code",
   "execution_count": 26,
   "metadata": {},
   "outputs": [
    {
     "data": {
      "text/plain": [
       "[[],\n",
       " [],\n",
       " [7, 7],\n",
       " [8, 8, 8, 1, 1, 1, 9, 9],\n",
       " [7, 7, 4, 4, 4, 9, 9, 9, 2, 2, 6],\n",
       " [],\n",
       " [6, 6, 7, 7, 9, 9, 2, 2],\n",
       " [],\n",
       " [],\n",
       " [2],\n",
       " [3, 4, 4, 4],\n",
       " [],\n",
       " [4, 4, 4, 4],\n",
       " [8, 1],\n",
       " [2, 2, 2, 9, 1, 3],\n",
       " [],\n",
       " [6, 3, 3, 4, 4]]"
      ]
     },
     "execution_count": 26,
     "metadata": {},
     "output_type": "execute_result"
    }
   ],
   "source": [
    "big_model.tote_content"
   ]
  },
  {
   "cell_type": "code",
   "execution_count": null,
   "metadata": {},
   "outputs": [],
   "source": [
    "big_model.solve(solver='PULP_CBC_CMD')"
   ]
  }
 ],
 "metadata": {
  "kernelspec": {
   "display_name": "Python 3",
   "language": "python",
   "name": "python3"
  },
  "language_info": {
   "codemirror_mode": {
    "name": "ipython",
    "version": 3
   },
   "file_extension": ".py",
   "mimetype": "text/x-python",
   "name": "python",
   "nbconvert_exporter": "python",
   "pygments_lexer": "ipython3",
   "version": "3.10.4"
  }
 },
 "nbformat": 4,
 "nbformat_minor": 2
}
